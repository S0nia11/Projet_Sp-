{
 "cells": [
  {
   "cell_type": "markdown",
   "metadata": {},
   "source": [
    "#### **But DU MODELE:**\n",
    "#### **Prédire et prévenir les blessures causées lors de matchs de tennis.**"
   ]
  },
  {
   "cell_type": "code",
   "execution_count": null,
   "metadata": {},
   "outputs": [],
   "source": [
    "import pandas as pd\n",
    "import numpy as np\n",
    "import re\n",
    "\n",
    "from sklearn.preprocessing import OneHotEncoder\n",
    "from sklearn.ensemble import RandomForestClassifier\n",
    "from sklearn.model_selection import train_test_split\n",
    "from sklearn.metrics import accuracy_score, classification_report\n",
    "\n",
    "from sklearn.linear_model import LinearRegression\n",
    "from sklearn.metrics import mean_squared_error, r2_score"
   ]
  },
  {
   "cell_type": "code",
   "execution_count": null,
   "metadata": {},
   "outputs": [],
   "source": [
    "# Chargement des données\n",
    "chemin_excel_blessures = \"../DataSets/BlessuresTennis_Causes.xlsx\"\n",
    "df = pd.read_excel(chemin_excel_blessures)"
   ]
  },
  {
   "cell_type": "code",
   "execution_count": null,
   "metadata": {},
   "outputs": [],
   "source": [
    "# Nettoyage des données\n",
    "def fix_separators(df):\n",
    "    corrections = {}\n",
    "    for column in df.columns:\n",
    "        corrections[column] = []\n",
    "        for i, value in enumerate(df[column]):\n",
    "            if pd.notnull(value) and '; ' in str(value):\n",
    "                parts = str(value).split('; ')\n",
    "                if len(parts) > 1:\n",
    "                    df.at[i, column] = '; '.join(part.strip() for part in parts)\n",
    "                    corrections[column].append(f\"Ligne {i+1}: Séparateur corrigé\")\n",
    "            elif pd.notnull(value) and ';' in str(value):\n",
    "                df.at[i, column] = '; '.join(part.strip() for part in str(value).split(';') if part.strip() != '')\n",
    "                corrections[column].append(f\"Ligne {i+1}: Séparateur corrigé\")\n",
    "    return df, corrections\n",
    "\n",
    "df, corrections = fix_separators(df[['ID', 'CategBlessure', 'TypeBlessure', 'Blessure', 'Symptomes_Blessures', 'Traitement_Blessures', 'Prescriptions_Blessures', 'Prix_Prescriptions (en € )', 'Images_Prescriptions', 'Descriptifs_Prescriptions', 'LienAchat_Prescriptions', 'Causes_Blessure', 'Zone_Blessures', 'Description_Zone']])\n",
    "print(\"Séparateurs corrigés :\")\n",
    "for column, correction in corrections.items():\n",
    "    if correction:\n",
    "        print(f\"Colonne {column}:\")\n",
    "        for item in correction:\n",
    "            print(f\"- {item}\")\n",
    "        print('\\n')"
   ]
  },
  {
   "cell_type": "code",
   "execution_count": null,
   "metadata": {},
   "outputs": [],
   "source": [
    "# Fonction pour extraire les valeurs numériques\n",
    "def extract_float(value):\n",
    "    matches = re.findall(r'\\d+\\.\\d+', str(value)) # type: ignore\n",
    "    if matches:\n",
    "        return float(matches[0])\n",
    "    else:\n",
    "        return None"
   ]
  },
  {
   "cell_type": "code",
   "execution_count": null,
   "metadata": {},
   "outputs": [],
   "source": [
    "# Remplacer les virgules par des points dans les valeurs de la colonne 'Prix_Prescriptions (en € )'\n",
    "df['Prix_Prescriptions (en € )'] = df['Prix_Prescriptions (en € )'].str.replace(',', '.')\n",
    "\n",
    "# Extraire les valeurs numériques de la colonne et les convertir en flottant\n",
    "df['Prix_Prescriptions (en € )'] = df['Prix_Prescriptions (en € )'].apply(extract_float)\n",
    "\n",
    "# Supprimer les lignes avec des valeurs non numériques\n",
    "df = df.dropna(subset=['Prix_Prescriptions (en € )'])"
   ]
  },
  {
   "cell_type": "code",
   "execution_count": null,
   "metadata": {},
   "outputs": [],
   "source": [
    "# Maintenant, vous pouvez continuer avec votre code d'entraînement de modèle\n",
    "\n",
    "columns_to_convert = ['Prescriptions_Blessures', 'Prix_Prescriptions (en € )', 'Images_Prescriptions', 'Descriptifs_Prescriptions', 'LienAchat_Prescriptions']\n",
    "df = df.dropna(subset=columns_to_convert, how='all')\n",
    "df.head()"
   ]
  },
  {
   "cell_type": "code",
   "execution_count": null,
   "metadata": {},
   "outputs": [],
   "source": [
    "def split_columns(row):\n",
    "    try:\n",
    "        prescriptions = row['Prescriptions_Blessures'].split('; ')\n",
    "        prices = [float(price.replace(',', '.')) for price in row['Prix_Prescriptions (en € )'].split('; ')]\n",
    "        images = row['Images_Prescriptions'].split('; ')\n",
    "        descriptions = row['Descriptifs_Prescriptions'].split('; ')\n",
    "        links = row['LienAchat_Prescriptions'].split('; ')\n",
    "        return list(zip(prescriptions, prices, images, descriptions, links))\n",
    "    except AttributeError:\n",
    "        return [(row['Prescriptions_Blessures'], row['Prix_Prescriptions (en € )'], row['Images_Prescriptions'], row['Descriptifs_Prescriptions'], row['LienAchat_Prescriptions'])]\n",
    "\n",
    "prescriptions_df = df.apply(split_columns, axis=1).explode().apply(lambda x: pd.Series(x, index=['Prescription', 'Prix', 'Image', 'Descriptif', 'Lien d\\'achat']))\n",
    "\n",
    "print(\"\\nPrescriptions :\")\n",
    "for index, row in prescriptions_df.iterrows():\n",
    "    print(f\"| Prescription : {row['Prescription']} | Prix : {row['Prix']} | Image : {row['Image']} | Descriptif : {row['Descriptif']} | Lien d'achat : {row['Lien d\\'achat']} |\")"
   ]
  },
  {
   "cell_type": "code",
   "execution_count": null,
   "metadata": {},
   "outputs": [],
   "source": [
    "non_prescriptions_columns = ['Traitement_Blessures', 'Causes_Blessure', 'Zone_Blessures']\n",
    "non_prescriptions_df = df[non_prescriptions_columns].reset_index().rename(columns={'index': 'Blessure'})\n",
    "for col in non_prescriptions_columns:\n",
    "    non_prescriptions_df[col] = non_prescriptions_df[col].str.split('; ')\n",
    "non_prescriptions_df = non_prescriptions_df.explode('Traitement_Blessures').explode('Causes_Blessure').explode('Zone_Blessures')\n",
    "\n",
    "print(\"\\nDonnées pour le traitement, les causes et la zone des blessures :\")\n",
    "print(non_prescriptions_df)"
   ]
  },
  {
   "cell_type": "code",
   "execution_count": null,
   "metadata": {},
   "outputs": [],
   "source": [
    "# Traitement des données\n",
    "# (Vous pouvez ajouter ici le traitement des données sur les prescriptions médicales, la séparation des colonnes, etc.)\n",
    "\n",
    "# Encodage et normalisation des données\n",
    "categorical_columns = ['CategBlessure', 'TypeBlessure', 'Blessure', 'Symptomes_Blessures', \n",
    "                       'Traitement_Blessures', 'Prescriptions_Blessures', 'Causes_Blessure', \n",
    "                       'Zone_Blessures', 'Description_Zone']\n",
    "df[categorical_columns] = df[categorical_columns].fillna('')\n",
    "df[categorical_columns] = df[categorical_columns].astype(str)\n",
    "\n",
    "encoder = OneHotEncoder()\n",
    "encoded_categorical = encoder.fit_transform(df[categorical_columns])\n",
    "\n",
    "scaled_numerical = np.array([price for price in df['Prix_Prescriptions (en € )']]).reshape(-1, 1)\n",
    "\n",
    "X = np.concatenate((encoded_categorical.toarray(), scaled_numerical), axis=1)\n",
    "y = df['Blessure']"
   ]
  },
  {
   "cell_type": "code",
   "execution_count": null,
   "metadata": {},
   "outputs": [],
   "source": [
    "# Division des données en ensembles d'entraînement et de test\n",
    "X_train, X_test, y_train, y_test = train_test_split(X, y, test_size=0.2, random_state=42)"
   ]
  },
  {
   "cell_type": "code",
   "execution_count": null,
   "metadata": {},
   "outputs": [],
   "source": [
    "# Initialisation et entraînement du modèle\n",
    "model = RandomForestClassifier(n_estimators=100, random_state=42)\n",
    "model.fit(X_train, y_train)"
   ]
  },
  {
   "cell_type": "code",
   "execution_count": null,
   "metadata": {},
   "outputs": [],
   "source": [
    "# Prédiction sur les données de test\n",
    "y_pred = model.predict(X_test)"
   ]
  },
  {
   "cell_type": "code",
   "execution_count": null,
   "metadata": {},
   "outputs": [],
   "source": [
    "# Évaluation du modèle\n",
    "accuracy = accuracy_score(y_test, y_pred)\n",
    "print(\"Accuracy:\", accuracy)\n",
    "print(classification_report(y_test, y_pred))"
   ]
  },
  {
   "cell_type": "code",
   "execution_count": null,
   "metadata": {},
   "outputs": [],
   "source": [
    "# Sélection des colonnes pertinentes pour la régression\n",
    "X_reg = df[['CategBlessure', 'TypeBlessure', 'Blessure', 'Traitement_Blessures', 'Prescriptions_Blessures']]\n",
    "y_reg = df['Prix_Prescriptions (en € )']  \n",
    "\n",
    "# Encodage one-hot des colonnes catégorielles\n",
    "X_reg_encoded = pd.get_dummies(X_reg)\n",
    "\n",
    "# Division des données en ensembles d'entraînement et de test\n",
    "X_train_reg, X_test_reg, y_train_reg, y_test_reg = train_test_split(X_reg_encoded, y_reg, test_size=0.2, random_state=42)\n",
    "\n",
    "# Initialisation et entraînement du modèle de régression linéaire\n",
    "regression_model = LinearRegression()\n",
    "regression_model.fit(X_train_reg, y_train_reg)\n",
    "\n",
    "# Prédiction sur les données de test\n",
    "y_pred_reg = regression_model.predict(X_test_reg)\n",
    "\n",
    "# Évaluation du modèle\n",
    "mse_reg = mean_squared_error(y_test_reg, y_pred_reg)\n",
    "r2_reg = r2_score(y_test_reg, y_pred_reg)\n",
    "\n",
    "print(\"Mean Squared Error (Regression):\", mse_reg)\n",
    "print(\"R^2 Score (Regression):\", r2_reg)"
   ]
  },
  {
   "cell_type": "code",
   "execution_count": null,
   "metadata": {},
   "outputs": [],
   "source": [
    "# Sélection de la première observation du jeu de données de test\n",
    "observation_index = 0  # Index de l'observation dans le jeu de données de test\n",
    "observation_features = X_test[observation_index]  # Caractéristiques de l'observation\n",
    "observation_price = y_test[observation_index]  # Prix réel de prescription pour cette observation\n",
    "\n",
    "# Prédiction du prix de prescription pour cette observation\n",
    "predicted_price = model.predict([observation_features])\n",
    "\n",
    "# Affichage des résultats\n",
    "print(\"Observation - Caractéristiques:\", observation_features)\n",
    "print(\"Prix réel de prescription:\", observation_price)\n",
    "print(\"Prédiction du prix de prescription:\", predicted_price)"
   ]
  }
 ],
 "metadata": {
  "kernelspec": {
   "display_name": "Python 3",
   "language": "python",
   "name": "python3"
  },
  "language_info": {
   "codemirror_mode": {
    "name": "ipython",
    "version": 3
   },
   "file_extension": ".py",
   "mimetype": "text/x-python",
   "name": "python",
   "nbconvert_exporter": "python",
   "pygments_lexer": "ipython3",
   "version": "3.12.3"
  }
 },
 "nbformat": 4,
 "nbformat_minor": 2
}
